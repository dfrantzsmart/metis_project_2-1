{
 "cells": [
  {
   "cell_type": "markdown",
   "metadata": {},
   "source": [
    "# Predicting user rating of a hip hop album\n",
    "\n",
    "Source: albumoftheyear.org\n",
    "\n",
    "### Brainstorming:\n",
    "Features/Variables:\n",
    "- (Title)\n",
    "- (Artist)\n",
    "- Label: major vs not\n",
    "- Release date/year -- month+year vs year?\n",
    "- Number of tracks\n",
    "- Debut album (Y/N) -- considering only LP here\n",
    "- Format -- LP vs non-LP (EP, mixtape)\n",
    "- Genres/styles\n",
    "- Artist user score\n",
    "- Number of user ratings for artist (filtered for 50+)\n",
    "- Artist critic rating\n",
    "- Amt of time artist has been active in years (based on discography)\n",
    "*- Availability on streaming platforms (iTunes, Amazon, etc.)* -- may not be good variable as all albums are available for streaming\n",
    "- Featuring other artists -- *may need from API*\n",
    "- **Duration** -- *from API*\n",
    "\n",
    "*Possible:*\n",
    "- Presence of instrumentals\n",
    "- Duration of longest track\n",
    "- Duration of shortest track\n",
    "- Producers?\n",
    "\n",
    "Scrapped:\n",
    "- Posthumous: this is rare so there will likely be no correlation"
   ]
  },
  {
   "cell_type": "markdown",
   "metadata": {},
   "source": [
    "*Considerations:*\n",
    "- How to deal with null values?\n",
    "- Filter by # of user ratings? At least *x* number?\n",
    "- Categorial variables: genre/style, streaming platforms\n",
    "- Remove non-LPs?\n",
    "\n",
    "Explain:\n",
    "- List was comprehensive with minimum rating of 4"
   ]
  },
  {
   "cell_type": "code",
   "execution_count": null,
   "metadata": {},
   "outputs": [],
   "source": [
    "# Import web scraping tools\n",
    "from bs4 import BeautifulSoup\n",
    "import requests\n",
    "import time, os"
   ]
  },
  {
   "cell_type": "code",
   "execution_count": null,
   "metadata": {},
   "outputs": [],
   "source": [
    "import pandas as pd\n",
    "import numpy as np\n",
    "import datetime as dt\n",
    "import re"
   ]
  },
  {
   "cell_type": "code",
   "execution_count": null,
   "metadata": {},
   "outputs": [],
   "source": [
    "# Import functions from scraping module\n",
    "import * from scraping"
   ]
  },
  {
   "cell_type": "code",
   "execution_count": null,
   "metadata": {
    "scrolled": true
   },
   "outputs": [],
   "source": [
    "# Create list of page number extensions\n",
    "pages = ['{}/?r=50'.format(i) for i in range(2,54)]\n",
    "\n",
    "# Insert opening/first page link to pages list\n",
    "pages.insert(0, '?r=50')"
   ]
  },
  {
   "cell_type": "code",
   "execution_count": null,
   "metadata": {
    "scrolled": true
   },
   "outputs": [],
   "source": [
    "# Create list of links for album pages for all pages of master list\n",
    "album_links_list = []\n",
    "\n",
    "for page in pages:\n",
    "    album_links_list = [link for link in get_album_links(page)]\n",
    "        \n",
    "album_links_list"
   ]
  },
  {
   "cell_type": "code",
   "execution_count": null,
   "metadata": {},
   "outputs": [],
   "source": [
    "# Pickle list\n",
    "import pickle\n",
    "\n",
    "outfile = open('albumlinks','wb')\n",
    "pickle.dump(album_links_list,outfile)\n",
    "outfile.close()"
   ]
  },
  {
   "cell_type": "markdown",
   "metadata": {},
   "source": [
    "**Scraping album page**"
   ]
  },
  {
   "cell_type": "code",
   "execution_count": null,
   "metadata": {},
   "outputs": [],
   "source": [
    "# Create list of dictionaries containing features scraped for each album\n",
    "scraped_albums_l = [scrape_album(link) for link in albums_links_list]"
   ]
  },
  {
   "cell_type": "code",
   "execution_count": null,
   "metadata": {},
   "outputs": [],
   "source": [
    "len(scraped_albums_l)"
   ]
  },
  {
   "cell_type": "code",
   "execution_count": null,
   "metadata": {},
   "outputs": [],
   "source": [
    "# Pickle list of album features\n",
    "import pickle\n",
    "\n",
    "out_file = open('scrapedalbumslist','wb')\n",
    "pickle.dump(scraped_albums_l, out_file)\n",
    "out_file.close()"
   ]
  },
  {
   "cell_type": "code",
   "execution_count": null,
   "metadata": {},
   "outputs": [],
   "source": [
    "# Convert list of album features into dataframe\n",
    "albums_df = pd.DataFrame(scraped_albums_l)\n",
    "albums_df.head()"
   ]
  },
  {
   "cell_type": "markdown",
   "metadata": {},
   "source": [
    "**Explore and clean data**"
   ]
  },
  {
   "cell_type": "code",
   "execution_count": null,
   "metadata": {},
   "outputs": [],
   "source": [
    "# Explore albums dataframe\n",
    "albums_df.info()"
   ]
  },
  {
   "cell_type": "code",
   "execution_count": null,
   "metadata": {},
   "outputs": [],
   "source": [
    "# Look at ranges of num_user_ratings\n",
    "print((albums_df['num_user_ratings'] >= 100).sum())\n",
    "print((albums_df['num_user_ratings'] >= 75).sum())\n",
    "print(((albums_df['num_user_ratings'] >= 50) & (albums_df['num_user_ratings'] < 75)).sum())"
   ]
  },
  {
   "cell_type": "code",
   "execution_count": null,
   "metadata": {},
   "outputs": [],
   "source": [
    "# Look at streaming column values: if there are no 0 values, this column does not provide useful information and\n",
    "# should be dropped\n",
    "albums_df['streaming'].value_counts()"
   ]
  },
  {
   "cell_type": "code",
   "execution_count": null,
   "metadata": {},
   "outputs": [],
   "source": [
    "albums_df.drop(columns={'streaming'}, inplace=True)\n",
    "albums_df.head()"
   ]
  },
  {
   "cell_type": "code",
   "execution_count": null,
   "metadata": {},
   "outputs": [],
   "source": [
    "# Convert user_score and critic_score columns to numeric types\n",
    "albums_df['user_score'] = albums_df['user_score'].astype('int')\n",
    "albums_df['critic_score'] = pd.to_numeric(albums_df['critic_score'])\n",
    "albums_df.info()"
   ]
  },
  {
   "cell_type": "code",
   "execution_count": null,
   "metadata": {},
   "outputs": [],
   "source": [
    "# Look at range of user rating/score\n",
    "albums_df['user_score'].describe()\n",
    "\n",
    "# There appears to be a decent range although there are more values >60 than below. I will explore this further\n",
    "# with my final data set."
   ]
  },
  {
   "cell_type": "code",
   "execution_count": null,
   "metadata": {},
   "outputs": [],
   "source": [
    "# Create list of album titles\n",
    "album_titles_l = list(albums_df['title'])\n",
    "len(album_titles_l)"
   ]
  },
  {
   "cell_type": "code",
   "execution_count": null,
   "metadata": {},
   "outputs": [],
   "source": [
    "# Pickle list of album titles\n",
    "import pickle\n",
    "\n",
    "outfile3 = open('titles','wb')\n",
    "pickle.dump(album_titles_l,outfile3)\n",
    "outfile3.close()"
   ]
  },
  {
   "cell_type": "code",
   "execution_count": null,
   "metadata": {},
   "outputs": [],
   "source": [
    "# Pickle albums dataframe\n",
    "albums_df.to_pickle(\"./albums_df.pkl\")"
   ]
  },
  {
   "cell_type": "code",
   "execution_count": null,
   "metadata": {},
   "outputs": [],
   "source": [
    "# Unpickle albums dataframe\n",
    "unpickled_albums_df = pd.read_pickle(\"./albums_df.pkl\")\n",
    "unpickled_albums_df.head()"
   ]
  },
  {
   "cell_type": "code",
   "execution_count": null,
   "metadata": {},
   "outputs": [],
   "source": [
    "# Create list of links to individual artist pages\n",
    "artist_links_list = [get_artist_link(link) for link in album_links_l]\n",
    "len(artist_links_list)"
   ]
  },
  {
   "cell_type": "code",
   "execution_count": null,
   "metadata": {},
   "outputs": [],
   "source": [
    "# Get links for unique artists\n",
    "from collections import OrderedDict\n",
    "artist_links_l = list(OrderedDict.fromkeys(artist_links_list))\n",
    "len(artist_links_l)"
   ]
  },
  {
   "cell_type": "code",
   "execution_count": null,
   "metadata": {},
   "outputs": [],
   "source": [
    "# Pickle list of links to artist pages\n",
    "import pickle\n",
    "\n",
    "outfile2 = open('artistlinks','wb')\n",
    "pickle.dump(artist_links_l,outfile2)\n",
    "outfile2.close()"
   ]
  },
  {
   "cell_type": "markdown",
   "metadata": {},
   "source": [
    "**Scraping artist page**"
   ]
  },
  {
   "cell_type": "code",
   "execution_count": null,
   "metadata": {},
   "outputs": [],
   "source": [
    "# Scrape artist pages\n",
    "scraped_artists_l = [scrape_artist(link) for link in artist_links_l]\n",
    "len(scraped_artists_l)"
   ]
  },
  {
   "cell_type": "code",
   "execution_count": null,
   "metadata": {},
   "outputs": [],
   "source": [
    "# Create dataframe of artist features\n",
    "artists_df = pd.DataFrame(scraped_artists_l)\n",
    "artists_df.head()"
   ]
  },
  {
   "cell_type": "code",
   "execution_count": null,
   "metadata": {},
   "outputs": [],
   "source": [
    "# Explore artists dataframe\n",
    "artists_df.info()"
   ]
  },
  {
   "cell_type": "code",
   "execution_count": null,
   "metadata": {},
   "outputs": [],
   "source": [
    "# Some of the columns contain 'None' values. Replace all 'None' values with np.nan in preparation for EDA.\n",
    "artists_df = artists_df.fillna(value=np.nan)\n",
    "print(artists_df.isna().sum())\n",
    "print(artists_df.info())"
   ]
  },
  {
   "cell_type": "code",
   "execution_count": null,
   "metadata": {},
   "outputs": [],
   "source": [
    "# Convert artist_user_score to numeric value\n",
    "artists_df['artist_user_score'] = pd.to_numeric(artists_df['artist_user_score'])\n",
    "\n",
    "# Raises an error because some of the values are 'NR' (no rating)"
   ]
  },
  {
   "cell_type": "code",
   "execution_count": null,
   "metadata": {},
   "outputs": [],
   "source": [
    "# Look at the rows w/ 'NR' value for artist_user_score\n",
    "artists_df[artists_df['artist_user_score'] == 'NR']"
   ]
  },
  {
   "cell_type": "code",
   "execution_count": null,
   "metadata": {},
   "outputs": [],
   "source": [
    "artists_df.isna().sum()"
   ]
  },
  {
   "cell_type": "code",
   "execution_count": null,
   "metadata": {},
   "outputs": [],
   "source": [
    "artists_df[artists_df['first_album'].isna()].head()\n",
    "print(artists_df['first_album'].isna().sum())\n",
    "\n",
    "# This means the album on the list is not an LP"
   ]
  },
  {
   "cell_type": "code",
   "execution_count": null,
   "metadata": {},
   "outputs": [],
   "source": [
    "# Look at number of non-LPs in albums list\n",
    "(albums_df['format'] == 0).sum()"
   ]
  },
  {
   "cell_type": "code",
   "execution_count": null,
   "metadata": {},
   "outputs": [],
   "source": [
    "# Pickle artists dataframe\n",
    "import pickle\n",
    "\n",
    "outfile4 = open('artists','wb')\n",
    "pickle.dump(artists_df,outfile4)\n",
    "outfile4.close()"
   ]
  },
  {
   "cell_type": "code",
   "execution_count": null,
   "metadata": {},
   "outputs": [],
   "source": [
    "# Rename num_user_ratings column of artists_df to avoid overlap with albums_df\n",
    "artists_df.rename(columns={'num_user_ratings': 'artist_num_user_ratings'}, inplace=True)\n",
    "artists_df.head(1)"
   ]
  },
  {
   "cell_type": "markdown",
   "metadata": {},
   "source": [
    "**Merge album and artist dataframes**"
   ]
  },
  {
   "cell_type": "code",
   "execution_count": null,
   "metadata": {},
   "outputs": [],
   "source": [
    "merged_df = pd.merge(albums_df, artists_df)"
   ]
  },
  {
   "cell_type": "code",
   "execution_count": null,
   "metadata": {},
   "outputs": [],
   "source": [
    "merged_df.head(50)"
   ]
  },
  {
   "cell_type": "code",
   "execution_count": null,
   "metadata": {},
   "outputs": [],
   "source": [
    "merged_df.info()"
   ]
  },
  {
   "cell_type": "code",
   "execution_count": null,
   "metadata": {},
   "outputs": [],
   "source": [
    "# Add 'debut_album' column containing boolean integers by determining if the album is the artist's first album,\n",
    "# then drop 'first_album column'\n",
    "merged_df['debut_album'] = merged_df.apply(lambda row: int(row['title'] == row['first_album']), axis=1)\n",
    "merged_df.drop(columns=['first_album'], inplace=True)"
   ]
  },
  {
   "cell_type": "code",
   "execution_count": null,
   "metadata": {},
   "outputs": [],
   "source": [
    "merged_df.head(20)"
   ]
  },
  {
   "cell_type": "code",
   "execution_count": null,
   "metadata": {},
   "outputs": [],
   "source": [
    "# Pickle merged dataframe\n",
    "import pickle\n",
    "\n",
    "outfile = open('merged','wb')\n",
    "pickle.dump(merged_df,outfile)\n",
    "outfile.close()"
   ]
  }
 ],
 "metadata": {
  "kernelspec": {
   "display_name": "Python 3",
   "language": "python",
   "name": "python3"
  },
  "language_info": {
   "codemirror_mode": {
    "name": "ipython",
    "version": 3
   },
   "file_extension": ".py",
   "mimetype": "text/x-python",
   "name": "python",
   "nbconvert_exporter": "python",
   "pygments_lexer": "ipython3",
   "version": "3.7.6"
  },
  "toc": {
   "base_numbering": 1,
   "nav_menu": {},
   "number_sections": false,
   "sideBar": true,
   "skip_h1_title": false,
   "title_cell": "Table of Contents",
   "title_sidebar": "Contents",
   "toc_cell": false,
   "toc_position": {},
   "toc_section_display": true,
   "toc_window_display": false
  }
 },
 "nbformat": 4,
 "nbformat_minor": 4
}
